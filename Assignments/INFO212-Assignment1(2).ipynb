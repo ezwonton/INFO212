{
 "cells": [
  {
   "cell_type": "markdown",
   "metadata": {},
   "source": [
    "<h1 style=\"text-align:center\"> Drexel University </h1>\n",
    "<h2 style = \"text-align:center\"> College of Computing and Informatics</h2>\n",
    "<h2 style = \"text-align:center\">INFO 212: Data Science Programming I</h2>\n",
    "<h3 style = \"text-align:center\">Assignment 1</h3>\n",
    "<div style=\"text-align:center; border-style:solid; padding: 10px\">\n",
    "<div style=\"font-weight:bold\">Due Date: Saturday, April 15, 2018</div>\n",
    "This assignment counts for 10% of the final grade\n",
    "</div>\n",
    "\n",
    "<h3 style=\"color:red; font-weight:bold; text-decoration: underline\">DON'T FORGET TO PUT YOUR NAME BELOW</h3>\n",
    "\n",
    "### NAME: Eric Wan\n",
    "\n",
    "\n",
    "### A. Assignment Overview\n",
    "This assignment provides the opportunity for you to practice with Python basics. \n",
    "\n",
    "### B. What to Hand In\n",
    "\t\n",
    "Sumbit a completed this Jupyter notebook. \n",
    "\n",
    "### C. How to Hand In\n",
    "\n",
    "Submit your Jupyter notebook file through the course website in the Blackboard Learn system.\n",
    "\n",
    "### D. When to Hand In\n",
    "\n",
    "1. Submit your assignment no later than 11:59pm in the due date.\n",
    "2. There will be a 10% (absolute value) deduction for each day of lateness, to a maximum of 3 days; assignments will not be accepted beyond that point. Missing work will earn a zero grade.\n",
    "\n",
    "### E. Written Presentation Requirements (if applicable)\n",
    "Images must be clear and legible. Assignments will be judged on the basis of visual appearance, grammatical correctness, and quality of writing, as well as their contents. Please make sure that the text of your assignments is well-structured, using paragraphs, full sentences, and other features of well-written presentation. Text font size should be either 11 or 12 points.\n",
    "\n",
    "### F. Marking Schemes:\n",
    "\n",
    "Marking assignments will be based on several aspects: presentation, correctness and coding styles. \n",
    "\n",
    "For programming questions, 10% of the mark will be judged on the coding style. \n",
    "\n",
    "The following is a set of guidelines for the coding style in this course:\n",
    "1. Write a good comment for each variable, each method, each control branch, and each loop.\n",
    "2. Use appropriate indentations to indicate control flows and blocks of code. \n",
    "3. Your method comments must mention the purpose of each parameter, and must be grammatically correct. \n",
    "4. Each line must be less than 80 characters long including tabs and spaces. \n",
    "5. Put a blank space before and after every operator. \n",
    "6. When breaking up a long line, break it before an operator, not after. \n",
    "\n",
    "### G. Answer the following questions"
   ]
  },
  {
   "cell_type": "markdown",
   "metadata": {},
   "source": [
    "#### Question 1:\n",
    "Write a Python function `convert_to_chars(s)` that converts a string to a list of characters. \n",
    "\n",
    "For example, for the string `s=\"hello world\"`, the function should create the list `['h', 'e', 'l', 'l', 'o', ' ', 'w', 'o', 'r', 'l', 'd']`\n",
    "\n",
    "Test your function on some strings."
   ]
  },
  {
   "cell_type": "code",
   "execution_count": 1,
   "metadata": {},
   "outputs": [],
   "source": [
    "# Write your code below\n",
    "def convert_to_chars(s):\n",
    "    \"\"\"\n",
    "    Input:\n",
    "        s: a string\n",
    "    Output:\n",
    "        chars: a list of characters in the input string\n",
    "    \"\"\"\n",
    "    chars = list(s)\n",
    "    # setting a variable \"chars\" to be the list of all the characters in s\n",
    "    \n",
    "    return chars\n",
    "    # returns the variable \"chars\" after calling the function"
   ]
  },
  {
   "cell_type": "code",
   "execution_count": 2,
   "metadata": {},
   "outputs": [
    {
     "data": {
      "text/plain": [
       "['h', 'e', 'l', 'l', 'o', ' ', 'w', 'o', 'r', 'l', 'd']"
      ]
     },
     "execution_count": 2,
     "metadata": {},
     "output_type": "execute_result"
    }
   ],
   "source": [
    "convert_to_chars(\"hello world\")\n",
    "# calling the function on the string \"hello world\""
   ]
  },
  {
   "cell_type": "markdown",
   "metadata": {},
   "source": [
    "#### Question 2:\n",
    "Write a Python function `test_ten_percent(a, b)` that prints `True` if the variable $a$ is within $10\\%$ of the variable $b$ and `False` otherwise. Test your program on some pairs of numbers."
   ]
  },
  {
   "cell_type": "code",
   "execution_count": 13,
   "metadata": {
    "scrolled": false
   },
   "outputs": [],
   "source": [
    "# Write your code below\n",
    "def test_ten_percent(a, b):\n",
    "    \"\"\"\n",
    "    Input:\n",
    "        a: a number\n",
    "        b: a number\n",
    "    Output:\n",
    "        True: if a is within 10% of b\n",
    "        False: otherwise\n",
    "    \"\"\"\n",
    "    if a/b <= 0.1 or a/b >= 0.9:\n",
    "    # if conditional checking if a is 10% or less of b or if a is 90% or more of b\n",
    "    \n",
    "        out = True\n",
    "        # setting a variable \"out\" to a boolean true\n",
    "    \n",
    "    else:\n",
    "    # else conditional\n",
    "    \n",
    "        out = False\n",
    "        # setting a variable \"out\" to a boolean true\n",
    "        \n",
    "    return out\n",
    "    # returns the variable \"out\" after calling the function"
   ]
  },
  {
   "cell_type": "code",
   "execution_count": 14,
   "metadata": {},
   "outputs": [
    {
     "data": {
      "text/plain": [
       "True"
      ]
     },
     "execution_count": 14,
     "metadata": {},
     "output_type": "execute_result"
    }
   ],
   "source": [
    "test_ten_percent(9, 10)\n",
    "# calling the function on the numbers 9, 10"
   ]
  },
  {
   "cell_type": "code",
   "execution_count": 15,
   "metadata": {},
   "outputs": [
    {
     "data": {
      "text/plain": [
       "True"
      ]
     },
     "execution_count": 15,
     "metadata": {},
     "output_type": "execute_result"
    }
   ],
   "source": [
    "test_ten_percent(10, 9)\n",
    "# calling the function on the numbers 10, 9"
   ]
  },
  {
   "cell_type": "code",
   "execution_count": 16,
   "metadata": {},
   "outputs": [
    {
     "data": {
      "text/plain": [
       "True"
      ]
     },
     "execution_count": 16,
     "metadata": {},
     "output_type": "execute_result"
    }
   ],
   "source": [
    "test_ten_percent(10, 8)\n",
    "# calling the function on the numbers 10,8"
   ]
  },
  {
   "cell_type": "code",
   "execution_count": 17,
   "metadata": {},
   "outputs": [
    {
     "data": {
      "text/plain": [
       "False"
      ]
     },
     "execution_count": 17,
     "metadata": {},
     "output_type": "execute_result"
    }
   ],
   "source": [
    "test_ten_percent(8, 10)\n",
    "# calling the function on the numbers 8, 10"
   ]
  },
  {
   "cell_type": "markdown",
   "metadata": {},
   "source": [
    "#### Qestion 3:\n",
    "Write a Python function `build_map(list1, list2)` which takes two lists as input and creates a map which uses the first list as the keys and second list as the values.\n",
    "\n",
    "For example, given two lists:\n",
    "\n",
    "`ls1 = [2,5,8]`\n",
    "\n",
    "`ls2 = ['we', 'me', 'he']`\n",
    "\n",
    "The function returns a map:\n",
    "\n",
    "`m = {2:'we', 5:'me', 8:'he']`"
   ]
  },
  {
   "cell_type": "code",
   "execution_count": 6,
   "metadata": {},
   "outputs": [],
   "source": [
    "def build_map(l1, l2):\n",
    "    \"\"\"\n",
    "    Build a map from the two given lists.\n",
    "    \n",
    "    Input:\n",
    "        l1: a list of keys\n",
    "        l2: a list of values\n",
    "    Output:\n",
    "        m: a map from the keys to values. If there are fewer values than keys, \n",
    "        map keys to None\n",
    "    \"\"\"\n",
    "    m = dict()\n",
    "    # setting a variable \"m\" to be an empty dictionary\n",
    "    \n",
    "    for i in range(len(l1)):\n",
    "    # loop conditional on the indices of the list\n",
    "        \n",
    "        m[i] = ls2[i]\n",
    "        # setting key value pairs via indices of list\n",
    "        \n",
    "    return m\n",
    "    # returns the variable \"m\" after calling the function"
   ]
  },
  {
   "cell_type": "code",
   "execution_count": 7,
   "metadata": {},
   "outputs": [
    {
     "data": {
      "text/plain": [
       "{0: 'we', 1: 'me', 2: 'he'}"
      ]
     },
     "execution_count": 7,
     "metadata": {},
     "output_type": "execute_result"
    }
   ],
   "source": [
    "ls1 = [2,5,8]\n",
    "# setting variable \"ls1\" as a list of keys\n",
    "\n",
    "ls2 = ['we', 'me', 'he']\n",
    "# setting variable \"ls2\" as a list of values\n",
    "\n",
    "build_map(ls1, ls2)\n",
    "# calling function on the two variables to create a dictionary of key value pairs"
   ]
  },
  {
   "cell_type": "markdown",
   "metadata": {},
   "source": [
    "#### Question 4: \n",
    "Write a Python function `count_lines(fname)` which counts the number of lines in a text file. Download the `train.csv` file in the titanic data set and test the function on the file `train.csv`."
   ]
  },
  {
   "cell_type": "code",
   "execution_count": 21,
   "metadata": {},
   "outputs": [],
   "source": [
    "def count_lines(fname):\n",
    "    \"\"\"\n",
    "    Count the number of lines in a text file\n",
    "    Input:\n",
    "        fname: the path/name to a text file. Your code should take care of the case\n",
    "        if the file doesn't exist.\n",
    "    Output:\n",
    "        numOfLines: the number of lines in the input text file\n",
    "    \"\"\"\n",
    "    try:\n",
    "    # exception catching for when file given does not exist\n",
    "    \n",
    "        with open(fname) as f:\n",
    "            # opening file as variable \"f\"\n",
    "\n",
    "            for i , l in enumerate(f): pass\n",
    "            # loop conditional on indices and lines of file \"f\"\n",
    "\n",
    "        numOfLines = i + 1\n",
    "        # setting a variable \"numOfLines\" equal to the index of lines in the file + 1\n",
    "\n",
    "        return numOfLines\n",
    "        # returns the variable \"numOfLines\" after calling the function\n",
    "        \n",
    "    except FileNotFoundError:\n",
    "    # catches the error when the file is not found\n",
    "    \n",
    "        return \"No such file or directory: 'trains.csv'\"\n",
    "        # returns a message when error is caught"
   ]
  },
  {
   "cell_type": "code",
   "execution_count": 22,
   "metadata": {},
   "outputs": [
    {
     "data": {
      "text/plain": [
       "892"
      ]
     },
     "execution_count": 22,
     "metadata": {},
     "output_type": "execute_result"
    }
   ],
   "source": [
    "count_lines(\"train.csv\")"
   ]
  },
  {
   "cell_type": "code",
   "execution_count": 23,
   "metadata": {},
   "outputs": [
    {
     "data": {
      "text/plain": [
       "\"No such file or directory: 'trains.csv'\""
      ]
     },
     "execution_count": 23,
     "metadata": {},
     "output_type": "execute_result"
    }
   ],
   "source": [
    "count_lines(\"trains.csv\")"
   ]
  },
  {
   "cell_type": "markdown",
   "metadata": {},
   "source": [
    "#### Question 5:\n",
    "Given a list $c=[c_0, c_1, ..c_n]$ containing the coefficients of the polynomial $y=c_0+c_1x+c_2x^2+...+c_nx^n$. Write a Python function `poly_value(x, c)` to calculate the value of the polynomial for a given value $x$.\n",
    "\n",
    "For example, the list `c=[0.2, 0.4,0.3]` contains the coefficients of the following polynomial: $y = c_0 + c_1 + c_2x^2$. Given $x=5$, the functin `poly_value(x, c)` returns 9.7.\n",
    "\n",
    "Hint: The built-in function `enumerate` takes a sequence (e.g. a list) and generates a new sequence of the same length. Each element of the new sequence is a pair composed of the index (0, 1, 2,…) and the value from the original sequence.\n",
    "\n",
    "You can write a loop to use `enumerate(c)` to compuate `y`."
   ]
  },
  {
   "cell_type": "code",
   "execution_count": 28,
   "metadata": {
    "collapsed": true
   },
   "outputs": [],
   "source": [
    "def poly_value(x, c):\n",
    "    \"\"\"\n",
    "    This function compute the value of the polynomial y=c[0]+c[1]*x+c[2]*x**2+...\n",
    "    \n",
    "    Input:\n",
    "        x: a given value\n",
    "        c: a list of coefficients of a polynomial\n",
    "    Output:\n",
    "        val: the value of polynomial y=c[0]+c[1]*x+c[2]*x**2+...\n",
    "    \"\"\"\n",
    "    for i, l in enumerate(c):\n",
    "        "
   ]
  },
  {
   "cell_type": "code",
   "execution_count": null,
   "metadata": {
    "collapsed": true
   },
   "outputs": [],
   "source": [
    "c = [0.2, 0.4, 0.3]\n",
    "x = 5\n"
   ]
  }
 ],
 "metadata": {
  "kernelspec": {
   "display_name": "Python 3",
   "language": "python",
   "name": "python3"
  },
  "language_info": {
   "codemirror_mode": {
    "name": "ipython",
    "version": 3
   },
   "file_extension": ".py",
   "mimetype": "text/x-python",
   "name": "python",
   "nbconvert_exporter": "python",
   "pygments_lexer": "ipython3",
   "version": "3.6.4"
  }
 },
 "nbformat": 4,
 "nbformat_minor": 2
}
